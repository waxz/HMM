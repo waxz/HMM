{
 "cells": [
  {
   "cell_type": "code",
   "execution_count": 1,
   "metadata": {},
   "outputs": [],
   "source": [
    "import numpy as np"
   ]
  },
  {
   "cell_type": "code",
   "execution_count": 2,
   "metadata": {},
   "outputs": [],
   "source": [
    "# 对应状态集合Q\n",
    "states = ('Healthy', 'Fever')\n",
    "# 对应观测集合V\n",
    "observations = ('normal', 'cold', 'dizzy')\n",
    "# 初始状态概率向量π\n",
    "start_probability = {'Healthy': 0.6, 'Fever': 0.4}\n",
    "# 状态转移矩阵A\n",
    "transition_probability = {\n",
    "    'Healthy': {'Healthy': 0.7, 'Fever': 0.3},\n",
    "    'Fever': {'Healthy': 0.4, 'Fever': 0.6},\n",
    "}\n",
    "# 观测概率矩阵B\n",
    "emission_probability = {\n",
    "    'Healthy': {'normal': 0.5, 'cold': 0.4, 'dizzy': 0.1},\n",
    "    'Fever': {'normal': 0.1, 'cold': 0.3, 'dizzy': 0.6},\n",
    "}"
   ]
  },
  {
   "cell_type": "code",
   "execution_count": 3,
   "metadata": {},
   "outputs": [
    {
     "name": "stdout",
     "output_type": "stream",
     "text": [
      "{0: 'Healthy', 1: 'Fever'} {'Healthy': 0, 'Fever': 1}\n",
      "{0: 'normal', 1: 'cold', 2: 'dizzy'} {'normal': 0, 'cold': 1, 'dizzy': 2}\n"
     ]
    }
   ],
   "source": [
    "def generate_index_map(lables):\n",
    "    id2label = {}\n",
    "    label2id = {}\n",
    "    i = 0\n",
    "    for l in lables:\n",
    "        id2label[i] = l\n",
    "        label2id[l] = i\n",
    "        i += 1\n",
    "    return id2label, label2id\n",
    " \n",
    "states_id2label, states_label2id = generate_index_map(states)\n",
    "observations_id2label, observations_label2id = generate_index_map(observations)\n",
    "print(states_id2label, states_label2id)\n",
    "print(observations_id2label, observations_label2id)"
   ]
  },
  {
   "cell_type": "code",
   "execution_count": 4,
   "metadata": {},
   "outputs": [],
   "source": [
    "def convert_map_to_vector(map_, label2id):\n",
    "    \"\"\"将概率向量从dict转换成一维array\"\"\"\n",
    "    v = np.zeros(len(map_), dtype=float)\n",
    "    for e in map_:\n",
    "        v[label2id[e]] = map_[e]\n",
    "    return v\n",
    "\n",
    " \n",
    "def convert_map_to_matrix(map_, label2id1, label2id2):\n",
    "    \"\"\"将概率转移矩阵从dict转换成矩阵\"\"\"\n",
    "    m = np.zeros((len(label2id1), len(label2id2)), dtype=float)\n",
    "    for line in map_:\n",
    "        for col in map_[line]:\n",
    "            m[label2id1[line]][label2id2[col]] = map_[line][col]\n",
    "    return m"
   ]
  },
  {
   "cell_type": "code",
   "execution_count": 5,
   "metadata": {},
   "outputs": [
    {
     "name": "stdout",
     "output_type": "stream",
     "text": [
      "[[0.7 0.3]\n",
      " [0.4 0.6]]\n",
      "[[0.5 0.4 0.1]\n",
      " [0.1 0.3 0.6]]\n",
      "[0.6 0.4]\n"
     ]
    }
   ],
   "source": [
    "A = convert_map_to_matrix(transition_probability, states_label2id, states_label2id)\n",
    "print(A)\n",
    "B = convert_map_to_matrix(emission_probability, states_label2id, observations_label2id)\n",
    "print(B)\n",
    "observations_index = [observations_label2id[o] for o in observations]\n",
    "pi = convert_map_to_vector(start_probability, states_label2id)\n",
    "print(pi)"
   ]
  },
  {
   "cell_type": "code",
   "execution_count": 6,
   "metadata": {},
   "outputs": [],
   "source": [
    "# 随机生成观测序列和状态序列    \n",
    "def simulate(T):\n",
    "\n",
    "    def draw_from(probs):\n",
    "        \"\"\"\n",
    "        1.np.random.multinomial:\n",
    "        按照多项式分布，生成数据\n",
    "        >>> np.random.multinomial(20, [1/6.]*6, size=2)\n",
    "                array([[3, 4, 3, 3, 4, 3],\n",
    "                       [2, 4, 3, 4, 0, 7]])\n",
    "         For the first run, we threw 3 times 1, 4 times 2, etc.  \n",
    "         For the second, we threw 2 times 1, 4 times 2, etc.\n",
    "        2.np.where:\n",
    "        >>> x = np.arange(9.).reshape(3, 3)\n",
    "        >>> np.where( x > 5 )\n",
    "        (array([2, 2, 2]), array([0, 1, 2]))\n",
    "        \"\"\"\n",
    "        return np.where(np.random.multinomial(1,probs) == 1)[0][0]\n",
    "\n",
    "    observations = np.zeros(T, dtype=int)\n",
    "    states = np.zeros(T, dtype=int)\n",
    "    states[0] = draw_from(pi)\n",
    "    observations[0] = draw_from(B[states[0],:])\n",
    "    for t in range(1, T):\n",
    "        states[t] = draw_from(A[states[t-1],:])\n",
    "        observations[t] = draw_from(B[states[t],:])\n",
    "    return observations, states"
   ]
  },
  {
   "cell_type": "code",
   "execution_count": 7,
   "metadata": {
    "scrolled": true
   },
   "outputs": [
    {
     "name": "stdout",
     "output_type": "stream",
     "text": [
      "[0 2 2 2 2 1 0 2 0 0]\n",
      "[1 1 1 1 1 1 1 1 0 1]\n",
      "病人的状态:  ['Fever', 'Fever', 'Fever', 'Fever', 'Fever', 'Fever', 'Fever', 'Fever', 'Healthy', 'Fever']\n",
      "病人的观测:  ['normal', 'dizzy', 'dizzy', 'dizzy', 'dizzy', 'cold', 'normal', 'dizzy', 'normal', 'normal']\n"
     ]
    }
   ],
   "source": [
    "# 生成模拟数据\n",
    "observations_data, states_data = simulate(10)\n",
    "print(observations_data)\n",
    "print(states_data)\n",
    "# 相应的label\n",
    "print(\"病人的状态: \", [states_id2label[index] for index in states_data])\n",
    "print(\"病人的观测: \", [observations_id2label[index] for index in observations_data])"
   ]
  },
  {
   "cell_type": "markdown",
   "metadata": {},
   "source": [
    "## offline "
   ]
  },
  {
   "cell_type": "code",
   "execution_count": 8,
   "metadata": {},
   "outputs": [],
   "source": [
    "def forward(obs_seq):\n",
    "    \"\"\"前向算法\"\"\"\n",
    "    N = A.shape[0]\n",
    "    T = len(obs_seq)\n",
    "    \n",
    "    # F保存前向概率矩阵\n",
    "    F = np.zeros((N,T))\n",
    "    F[:,0] = pi * B[:, obs_seq[0]]\n",
    "\n",
    "    for t in range(1, T):\n",
    "        for n in range(N):\n",
    "            F[n,t] = np.dot(F[:,t-1], (A[:,n])) * B[n, obs_seq[t]]\n",
    "\n",
    "    return F\n",
    "\n",
    "def backward(obs_seq):\n",
    "    \"\"\"后向算法\"\"\"\n",
    "    N = A.shape[0]\n",
    "    T = len(obs_seq)\n",
    "    # X保存后向概率矩阵\n",
    "    X = np.zeros((N,T))\n",
    "    X[:,-1:] = 1\n",
    "#     print(\"x: \", X)\n",
    "\n",
    "    for t in reversed(range(T-1)):\n",
    "        for n in range(N):\n",
    "#             dd = X[:,t+1] * A[n,:] * B[:, obs_seq[t+1]]\n",
    "#             print(dd)\n",
    "            X[n,t] = np.sum(X[:,t+1] * A[n,:] * B[:, obs_seq[t+1]])\n",
    "\n",
    "    return X"
   ]
  },
  {
   "cell_type": "code",
   "execution_count": 9,
   "metadata": {},
   "outputs": [
    {
     "data": {
      "text/plain": [
       "array([[3.00000000e-01, 2.26000000e-02, 4.31800000e-03, 1.44994000e-03,\n",
       "        5.45750200e-04, 8.34294664e-04, 4.55160673e-04, 3.48202912e-05,\n",
       "        3.38991655e-05, 1.33763535e-05],\n",
       "       [4.00000000e-02, 6.84000000e-02, 2.86920000e-02, 1.11063600e-02,\n",
       "        4.25927880e-03, 8.15787702e-04, 7.39761020e-05, 1.08560318e-04,\n",
       "        7.55822781e-06, 1.47046863e-06]])"
      ]
     },
     "execution_count": 9,
     "metadata": {},
     "output_type": "execute_result"
    }
   ],
   "source": [
    "forward(observations_data)"
   ]
  },
  {
   "cell_type": "code",
   "execution_count": 10,
   "metadata": {},
   "outputs": [
    {
     "data": {
      "text/plain": [
       "array([[4.01764297e-05, 1.05055295e-04, 2.77630401e-04, 7.95876512e-04,\n",
       "        3.58869440e-03, 1.03786400e-02, 2.63440000e-02, 1.40800000e-01,\n",
       "        3.80000000e-01, 1.00000000e+00],\n",
       "       [6.98473299e-05, 1.82347550e-04, 4.75673151e-04, 1.23288358e-03,\n",
       "        3.02593280e-03, 7.58528000e-03, 3.86080000e-02, 9.16000000e-02,\n",
       "        2.60000000e-01, 1.00000000e+00]])"
      ]
     },
     "execution_count": 10,
     "metadata": {},
     "output_type": "execute_result"
    }
   ],
   "source": [
    "backward(observations_data)"
   ]
  },
  {
   "cell_type": "code",
   "execution_count": null,
   "metadata": {},
   "outputs": [],
   "source": []
  },
  {
   "cell_type": "code",
   "execution_count": 11,
   "metadata": {},
   "outputs": [],
   "source": [
    "def baum_welch_train(observations, A, B, pi, criterion=0.05):\n",
    "    \"\"\"无监督学习算法——Baum-Weich算法\"\"\"\n",
    "    n_states = A.shape[0]\n",
    "    n_samples = len(observations)\n",
    "\n",
    "    done = False\n",
    "    while not done:\n",
    "        # alpha_t(i) = P(O_1 O_2 ... O_t, q_t = S_i | hmm)\n",
    "        # Initialize alpha\n",
    "        alpha = forward(observations)\n",
    "\n",
    "        # beta_t(i) = P(O_t+1 O_t+2 ... O_T | q_t = S_i , hmm)\n",
    "        # Initialize beta\n",
    "        beta = backward(observations)\n",
    "        # ξ_t(i,j)=P(i_t=q_i,i_{i+1}=q_j|O,λ)\n",
    "        xi = np.zeros((n_states,n_states,n_samples-1))\n",
    "        for t in range(n_samples-1):\n",
    "            denom = np.dot(np.dot(alpha[:,t].T, A) * B[:,observations[t+1]].T, beta[:,t+1])\n",
    "            for i in range(n_states):\n",
    "                numer = alpha[i,t] * A[i,:] * B[:,observations[t+1]].T * beta[:,t+1].T\n",
    "                xi[i,:,t] = numer / denom\n",
    "\n",
    "        # γ_t(i)：gamma_t(i) = P(q_t = S_i | O, hmm)\n",
    "        gamma = np.sum(xi,axis=1)\n",
    "        # Need final gamma element for new B\n",
    "        # xi的第三维长度n_samples-1，少一个，所以gamma要计算最后一个\n",
    "        prod =  (alpha[:,n_samples-1] * beta[:,n_samples-1]).reshape((-1,1))\n",
    "        gamma = np.hstack((gamma,  prod / np.sum(prod))) #append one more to gamma!!!\n",
    "        \n",
    "        # 更新模型参数\n",
    "        newpi = gamma[:,0]\n",
    "        newA = np.sum(xi,2) / np.sum(gamma[:,:-1],axis=1).reshape((-1,1))\n",
    "        newB = np.copy(B)\n",
    "        num_levels = B.shape[1]\n",
    "        sumgamma = np.sum(gamma,axis=1)\n",
    "        for lev in range(num_levels):\n",
    "            mask = observations == lev\n",
    "            newB[:,lev] = np.sum(gamma[:,mask],axis=1) / sumgamma\n",
    "        \n",
    "        # 检查是否满足阈值\n",
    "        if np.max(abs(pi - newpi)) < criterion and \\\n",
    "                        np.max(abs(A - newA)) < criterion and \\\n",
    "                        np.max(abs(B - newB)) < criterion:\n",
    "            done = 1\n",
    "        A[:], B[:], pi[:] = newA, newB, newpi\n",
    "    return newA, newB, newpi"
   ]
  },
  {
   "cell_type": "code",
   "execution_count": 12,
   "metadata": {
    "scrolled": false
   },
   "outputs": [
    {
     "name": "stdout",
     "output_type": "stream",
     "text": [
      "pi:  [0.4 0.6]\n",
      "newA:  [[0.50000479 0.49999521]\n",
      " [0.50000588 0.49999412]]\n",
      "newB:  [[0.31863893 0.26553042 0.41583065]\n",
      " [0.32135835 0.26447064 0.41417101]]\n",
      "newpi:  [0.39898043 0.60101957]\n",
      "pi:  [0.4 0.6]\n"
     ]
    }
   ],
   "source": [
    "A = np.array([[0.5, 0.5],[0.5, 0.5]])\n",
    "B = np.array([[0.3, 0.3, 0.4],[0.3, 0.3, 0.4]])\n",
    "pi = np.array([0.4, 0.6])\n",
    "print(\"pi: \", pi)\n",
    "pic = pi.copy()\n",
    "\n",
    "observations_data, states_data = simulate(200)\n",
    "newA, newB, newpi = baum_welch_train(observations_data, A, B, pic,0.02)\n",
    "print(\"newA: \", newA)\n",
    "print(\"newB: \", newB)\n",
    "print(\"newpi: \", newpi)\n",
    "print(\"pi: \", pi)\n"
   ]
  },
  {
   "cell_type": "markdown",
   "metadata": {},
   "source": [
    "## online\n",
    "Online Learning with Hidden Markov Models[ Gianluigi Mongillo ,Sophie Deneve]"
   ]
  },
  {
   "cell_type": "markdown",
   "metadata": {},
   "source": [
    "Start with: \n",
    "- initial guess for the model parameters, θ(0) = [A,B], \n",
    "- initial state probabilities, ˆql (0) ≡ P(x0 = l), \n",
    "- sufficient statistics, ˆφh ijk(0)"
   ]
  },
  {
   "cell_type": "markdown",
   "metadata": {},
   "source": [
    "specific data struct\n"
   ]
  },
  {
   "cell_type": "code",
   "execution_count": 109,
   "metadata": {},
   "outputs": [
    {
     "name": "stdout",
     "output_type": "stream",
     "text": [
      "初始状态概率向量π:  [0.5 0.5]\n"
     ]
    }
   ],
   "source": [
    "# 初始状态概率向量π\n",
    "pi = np.array([0.5, 0.5])\n",
    "print(\"初始状态概率向量π: \", pi)"
   ]
  },
  {
   "cell_type": "code",
   "execution_count": 110,
   "metadata": {},
   "outputs": [
    {
     "name": "stdout",
     "output_type": "stream",
     "text": [
      "初始状态转移矩阵A:\n",
      " [[0.5 0.5]\n",
      " [0.5 0.5]]\n",
      "初始观测矩阵A:\n",
      " [[0.333 0.333 0.333]\n",
      " [0.333 0.333 0.333]]\n"
     ]
    }
   ],
   "source": [
    "# 初始状态转移矩阵和观测矩阵\n",
    "A = np.array([[0.5, 0.5],[0.5, 0.5]])\n",
    "B = np.array([[0.333, 0.333, 0.333],[0.333, 0.333, 0.333]])\n",
    "print(\"初始状态转移矩阵A:\\n\", A)\n",
    "print(\"初始观测矩阵A:\\n\", B)\n"
   ]
  },
  {
   "cell_type": "code",
   "execution_count": 122,
   "metadata": {},
   "outputs": [
    {
     "name": "stdout",
     "output_type": "stream",
     "text": [
      "Fi:\n",
      "  [[[[0.33 0.33 0.33]\n",
      "   [0.33 0.33 0.33]]\n",
      "\n",
      "  [[0.33 0.33 0.33]\n",
      "   [0.33 0.33 0.33]]]\n",
      "\n",
      "\n",
      " [[[0.33 0.33 0.33]\n",
      "   [0.33 0.33 0.33]]\n",
      "\n",
      "  [[0.33 0.33 0.33]\n",
      "   [0.33 0.33 0.33]]]]\n"
     ]
    }
   ],
   "source": []
  },
  {
   "cell_type": "code",
   "execution_count": 115,
   "metadata": {},
   "outputs": [],
   "source": [
    "# P(xt−1 = i, xt = j, xT−1 = l, xT = h, y0→T)\n",
    "# which element to update in transition model or observation mode\n",
    "i = 1 # xt-1\n",
    "j = 0 # xt\n",
    "\n",
    "# observed  \n",
    "k = 0 #yT\n",
    "\n",
    "# last two state\n",
    "l = 0 # xT-1\n",
    "h = 0 # xT"
   ]
  },
  {
   "cell_type": "code",
   "execution_count": 170,
   "metadata": {},
   "outputs": [
    {
     "name": "stdout",
     "output_type": "stream",
     "text": [
      "time_factor:  0.0001\n"
     ]
    }
   ],
   "source": [
    "time_factor = 0.0001\n",
    "print(\"time_factor: \", time_factor)"
   ]
  },
  {
   "cell_type": "code",
   "execution_count": 116,
   "metadata": {},
   "outputs": [],
   "source": [
    "def delta(i, j):\n",
    "    if i == j:\n",
    "        return 1\n",
    "    else :\n",
    "        return 0\n",
    "def g_delta(i, j, l, h):\n",
    "    return delta(i, l )*delta(j, h)"
   ]
  },
  {
   "cell_type": "code",
   "execution_count": 132,
   "metadata": {},
   "outputs": [],
   "source": [
    "# γlh(yT) \n",
    "# probility P(xT-1 = l, xT = h | yT = k)\n",
    "Gama = np.ones([2,2,3])"
   ]
  },
  {
   "cell_type": "code",
   "execution_count": 121,
   "metadata": {
    "scrolled": true
   },
   "outputs": [
    {
     "name": "stdout",
     "output_type": "stream",
     "text": [
      "状态概率：\n",
      " [0.5 0.5]\n"
     ]
    }
   ],
   "source": [
    "# 状态概率 ql (T − 1) ≡ P(xT−1 = l|y0→T−1)\n",
    "# probility P(xT-1 = l | y0-T-1)\n",
    "Q = pi\n",
    "print(\"状态概率：\\n\", Q)"
   ]
  },
  {
   "cell_type": "code",
   "execution_count": 124,
   "metadata": {
    "scrolled": true
   },
   "outputs": [
    {
     "name": "stdout",
     "output_type": "stream",
     "text": [
      "信息概率:\n",
      "  [[[[0.33 0.33 0.33]\n",
      "   [0.33 0.33 0.33]]\n",
      "\n",
      "  [[0.33 0.33 0.33]\n",
      "   [0.33 0.33 0.33]]]\n",
      "\n",
      "\n",
      " [[[0.33 0.33 0.33]\n",
      "   [0.33 0.33 0.33]]\n",
      "\n",
      "  [[0.33 0.33 0.33]\n",
      "   [0.33 0.33 0.33]]]]\n"
     ]
    }
   ],
   "source": [
    "# 信息概率\n",
    "# P(xt-1 = i, xt = j, xT = h , yT = h)\n",
    "Fi = 0.33*np.ones([2,2,2,3])\n",
    "print(\"信息概率:\\n \", Fi)"
   ]
  },
  {
   "cell_type": "code",
   "execution_count": 81,
   "metadata": {},
   "outputs": [
    {
     "name": "stdout",
     "output_type": "stream",
     "text": [
      "a1:  0.5\n"
     ]
    }
   ],
   "source": [
    "\n",
    "A[i][j] \n",
    "a1 = Fi[0,1,:,:].sum() /  Fi[0,:,:,:].sum()\n",
    "print(\"a1: \", a1)"
   ]
  },
  {
   "cell_type": "code",
   "execution_count": 137,
   "metadata": {
    "scrolled": true
   },
   "outputs": [
    {
     "name": "stdout",
     "output_type": "stream",
     "text": [
      "Q0\n",
      " [0.5 0.5]\n"
     ]
    }
   ],
   "source": [
    "# initialise all probility with A B\n",
    "Q0 = Q\n",
    "print(\"Q0\\n\", Q0)"
   ]
  },
  {
   "cell_type": "code",
   "execution_count": 210,
   "metadata": {},
   "outputs": [],
   "source": [
    "class Q_data:\n",
    "    def __init__(self,Q):\n",
    "        self.Q = Q\n",
    "    \n",
    "    def updateQ(self, Gama):\n",
    "        Q0 = self.Q\n",
    "        self.Q[0] = (Gama[0][0][k] * Q0[0]) + (Gama[1][0][k] * Q0[1])  \n",
    "\n",
    "        self.Q[1] = (Gama[0][1][k] * Q0[0]) + (Gama[1][1][k] * Q0[1])  \n",
    "\n",
    "    def getQ(self):\n",
    "        return self.Q"
   ]
  },
  {
   "cell_type": "code",
   "execution_count": 211,
   "metadata": {},
   "outputs": [],
   "source": [
    "class Gama_data:\n",
    "    def __init__(self, Gama):\n",
    "        self.Gama = Gama\n",
    "        self.prob_sum = None\n",
    "        self.A = None\n",
    "        self.B = None\n",
    "    \n",
    "    def updateModel(self, A, B):\n",
    "        self.A = A\n",
    "        self.B = B\n",
    "        \n",
    "    def updateGama(self, new_obs_k, Q_old):\n",
    "        A = self.A\n",
    "        B = self.B\n",
    "        Q = Q_old\n",
    "        prob_sum = (A[0][0]*B[0][k]*Q[0] + A[0][1]*B[1][k]*Q[0] + A[1][0]*B[0][k]*Q[1] + A[1][1]*B[1][k]*Q[1]  )\n",
    "        self.prob_sum = prob_sum\n",
    "        \n",
    "        self.Gama[0][0][k] = (A[0][0]*B[0][k]) / prob_sum\n",
    "\n",
    "        self.Gama[0][1][k] = (A[0][1]*B[1][k]) / prob_sum\n",
    "\n",
    "        self.Gama[1][0][k] = (A[1][0]*B[0][k]) / prob_sum\n",
    "\n",
    "        self.Gama[1][1][k] = (A[1][1]*B[1][k]) / prob_sum\n",
    "        \n",
    "    \n",
    "    \n",
    "    def get(self, i, j, k):\n",
    "        return self.Gama[i][j][k]\n",
    "        \n",
    "    def getGama(self):\n",
    "        return self.Gama\n",
    "    \n",
    "# how to define a datastruct\n",
    "# member data\n",
    "# method\n",
    "\n",
    "# for Gama\n",
    "# contatin latest Gama\n",
    "# updata Gama from Q and yT, A, B\n",
    "        "
   ]
  },
  {
   "cell_type": "code",
   "execution_count": 212,
   "metadata": {},
   "outputs": [],
   "source": [
    "m_gama = Gama_data(Gama)"
   ]
  },
  {
   "cell_type": "code",
   "execution_count": 213,
   "metadata": {},
   "outputs": [],
   "source": [
    "m_gama.updateModel(A,B)"
   ]
  },
  {
   "cell_type": "code",
   "execution_count": 214,
   "metadata": {},
   "outputs": [],
   "source": [
    "m_gama.updateGama(new_obs_k=1,Q_old=Q)"
   ]
  },
  {
   "cell_type": "code",
   "execution_count": 215,
   "metadata": {},
   "outputs": [
    {
     "data": {
      "text/plain": [
       "array([[[1. , 0.5, 1. ],\n",
       "        [1. , 0.5, 1. ]],\n",
       "\n",
       "       [[1. , 0.5, 1. ],\n",
       "        [1. , 0.5, 1. ]]])"
      ]
     },
     "execution_count": 215,
     "metadata": {},
     "output_type": "execute_result"
    }
   ],
   "source": [
    "m_gama.getGama()"
   ]
  },
  {
   "cell_type": "code",
   "execution_count": 216,
   "metadata": {},
   "outputs": [],
   "source": [
    "m_q = Q_data(Q)"
   ]
  },
  {
   "cell_type": "code",
   "execution_count": 217,
   "metadata": {},
   "outputs": [],
   "source": [
    "m_q.updateQ(Gama=m_gama.getGama())"
   ]
  },
  {
   "cell_type": "code",
   "execution_count": 218,
   "metadata": {},
   "outputs": [
    {
     "data": {
      "text/plain": [
       "array([0.5, 0.5])"
      ]
     },
     "execution_count": 218,
     "metadata": {},
     "output_type": "execute_result"
    }
   ],
   "source": [
    "m_q.getQ()"
   ]
  },
  {
   "cell_type": "code",
   "execution_count": 197,
   "metadata": {},
   "outputs": [
    {
     "name": "stdout",
     "output_type": "stream",
     "text": [
      "q0:  0.5\n",
      "q1:  0.5\n"
     ]
    }
   ],
   "source": [
    "# update after get observation\n",
    "# get new obs\n",
    "k = 1\n",
    "\n",
    "# update Gama(T) from Q(T-1)\n",
    "# Gama(l, h, k)\n",
    "prob_sum = (A[0][0]*B[0][k]*Q[0] + A[0][1]*B[1][k]*Q[0] + A[1][0]*B[0][k]*Q[1] + A[1][1]*B[1][k]*Q[1]  )\n",
    "Gama[0][0][k] = (A[0][0]*B[0][k]) / prob_sum\n",
    "Gama[0][1][k] = (A[0][1]*B[1][k]) / prob_sum\n",
    "Gama[1][0][k] = (A[1][0]*B[0][k]) / prob_sum\n",
    "Gama[1][1][k] = (A[1][1]*B[1][k]) / prob_sum\n",
    "\n",
    "\n",
    "# update internal state posibility\n",
    "# Q(T) = Gama(T)*Q(T-1)\n",
    "\n",
    "Q[0]\n",
    "Q[0] = (Gama[0][0][k] * Q0[0]) + (Gama[1][0][k] * Q0[1])  \n",
    "Q[1] = (Gama[0][1][k] * Q0[0]) + (Gama[1][1][k] * Q0[1])  \n",
    "print(\"q0: \", q0)\n",
    "print(\"q1: \", q1)"
   ]
  },
  {
   "cell_type": "code",
   "execution_count": 198,
   "metadata": {},
   "outputs": [
    {
     "data": {
      "text/plain": [
       "0.3299239529051302"
      ]
     },
     "execution_count": 198,
     "metadata": {},
     "output_type": "execute_result"
    }
   ],
   "source": [
    "# P(xt-1 = i, xt = j, xT = h , yT = k)\n",
    "# updata enven corespond yT is not observed\n",
    "# Fi[0][0][0][0] = 0.0\n",
    "# Fi[i][j][h][k] = Gama[l][h][k] * Fi[i][j][l][k]\n",
    "Fi[0][0][0][0]  = (Gama[0][0][k] * (Fi[0][0][0][0] + time_factor*(delta(0, k)*g_delta(0, 0 ,0, 0)*Q[0] - Fi[0][0][0][0] ) ) ) + \\\n",
    "     (Gama[1][0][k] * (Fi[0][0][1][0] + time_factor*(delta(0, k)*g_delta(0, 0 ,1, 0)*Q[0] - Fi[0][0][1][0] ) ) )\n",
    "\n",
    "Fi[0][0][0][0] "
   ]
  },
  {
   "cell_type": "code",
   "execution_count": 177,
   "metadata": {},
   "outputs": [
    {
     "data": {
      "text/plain": [
       "0.33"
      ]
     },
     "execution_count": 177,
     "metadata": {},
     "output_type": "execute_result"
    }
   ],
   "source": [
    "Fi[0][0][0][0] "
   ]
  },
  {
   "cell_type": "code",
   "execution_count": 103,
   "metadata": {},
   "outputs": [],
   "source": [
    "\n",
    "\n",
    "\n",
    "b1 = Fi[:,1,:,1].sum() /  Fi[:,1,:,:].sum()\n",
    "print(\"b1: \", b1)"
   ]
  },
  {
   "cell_type": "code",
   "execution_count": 86,
   "metadata": {},
   "outputs": [],
   "source": [
    "l = 0\n",
    "h = 1"
   ]
  },
  {
   "cell_type": "code",
   "execution_count": 104,
   "metadata": {},
   "outputs": [],
   "source": [
    "Gama = np.ones([2,2])"
   ]
  },
  {
   "cell_type": "code",
   "execution_count": 105,
   "metadata": {},
   "outputs": [],
   "source": [
    "Gama[0][0] = A[0][1] * B[0][1] / (A[0][1] * B[1][1]*Q[0] + A[0][0] * B[0][1]*Q[0] + A[1][0] * B[0][1]*Q[1] + A[1][1] * B[1][1]*Q[1] )"
   ]
  },
  {
   "cell_type": "code",
   "execution_count": 106,
   "metadata": {},
   "outputs": [
    {
     "data": {
      "text/plain": [
       "array([[0.5, 1. ],\n",
       "       [1. , 1. ]])"
      ]
     },
     "execution_count": 106,
     "metadata": {},
     "output_type": "execute_result"
    }
   ],
   "source": [
    "Gama"
   ]
  },
  {
   "cell_type": "markdown",
   "metadata": {},
   "source": []
  },
  {
   "cell_type": "code",
   "execution_count": 97,
   "metadata": {},
   "outputs": [],
   "source": [
    "f1 = Fi[0][0][0][0]"
   ]
  },
  {
   "cell_type": "code",
   "execution_count": 99,
   "metadata": {},
   "outputs": [],
   "source": []
  },
  {
   "cell_type": "code",
   "execution_count": 94,
   "metadata": {},
   "outputs": [
    {
     "data": {
      "text/plain": [
       "0.5"
      ]
     },
     "execution_count": 94,
     "metadata": {},
     "output_type": "execute_result"
    }
   ],
   "source": [
    "f1 = (Gama[0] + Gama[1]) * (f1 + time_factor* )"
   ]
  },
  {
   "cell_type": "code",
   "execution_count": null,
   "metadata": {},
   "outputs": [],
   "source": [
    "Fi[0][0][0][0] = (Gama[0] *  ) + ()"
   ]
  },
  {
   "cell_type": "code",
   "execution_count": null,
   "metadata": {},
   "outputs": [],
   "source": []
  },
  {
   "cell_type": "markdown",
   "metadata": {},
   "source": []
  },
  {
   "cell_type": "code",
   "execution_count": 166,
   "metadata": {},
   "outputs": [],
   "source": [
    "class TT:\n",
    "    def __init__(self):\n",
    "        self.k = 44.4\n",
    "        pass\n",
    "    def p(self):\n",
    "        print(self.k)"
   ]
  },
  {
   "cell_type": "code",
   "execution_count": 167,
   "metadata": {},
   "outputs": [],
   "source": [
    "t = TT()"
   ]
  },
  {
   "cell_type": "code",
   "execution_count": 168,
   "metadata": {},
   "outputs": [
    {
     "name": "stdout",
     "output_type": "stream",
     "text": [
      "44.4\n"
     ]
    }
   ],
   "source": [
    "t.p()"
   ]
  },
  {
   "cell_type": "code",
   "execution_count": null,
   "metadata": {},
   "outputs": [],
   "source": []
  }
 ],
 "metadata": {
  "kernelspec": {
   "display_name": "Python 3",
   "language": "python",
   "name": "python3"
  },
  "language_info": {
   "codemirror_mode": {
    "name": "ipython",
    "version": 3
   },
   "file_extension": ".py",
   "mimetype": "text/x-python",
   "name": "python",
   "nbconvert_exporter": "python",
   "pygments_lexer": "ipython3",
   "version": "3.7.0"
  }
 },
 "nbformat": 4,
 "nbformat_minor": 2
}
